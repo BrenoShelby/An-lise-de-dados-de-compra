{
 "cells": [
  {
   "cell_type": "markdown",
   "metadata": {},
   "source": [
    "# Bibliotecas utilizadas"
   ]
  },
  {
   "cell_type": "code",
   "execution_count": 1,
   "metadata": {},
   "outputs": [],
   "source": [
    "import pandas as pd\n",
    "import matplotlib.pyplot as plt\n",
    "%matplotlib inline"
   ]
  },
  {
   "cell_type": "markdown",
   "metadata": {},
   "source": [
    "# Carregando os arquivos para a análise"
   ]
  },
  {
   "cell_type": "code",
   "execution_count": 2,
   "metadata": {},
   "outputs": [],
   "source": [
    "dados_compras_file = 'dados_compras.json'"
   ]
  },
  {
   "cell_type": "code",
   "execution_count": 3,
   "metadata": {},
   "outputs": [
    {
     "data": {
      "text/html": [
       "<div>\n",
       "<style scoped>\n",
       "    .dataframe tbody tr th:only-of-type {\n",
       "        vertical-align: middle;\n",
       "    }\n",
       "\n",
       "    .dataframe tbody tr th {\n",
       "        vertical-align: top;\n",
       "    }\n",
       "\n",
       "    .dataframe thead th {\n",
       "        text-align: right;\n",
       "    }\n",
       "</style>\n",
       "<table border=\"1\" class=\"dataframe\">\n",
       "  <thead>\n",
       "    <tr style=\"text-align: right;\">\n",
       "      <th></th>\n",
       "      <th>Idade</th>\n",
       "      <th>Item ID</th>\n",
       "      <th>Login</th>\n",
       "      <th>Nome do Item</th>\n",
       "      <th>Sexo</th>\n",
       "      <th>Valor</th>\n",
       "    </tr>\n",
       "  </thead>\n",
       "  <tbody>\n",
       "    <tr>\n",
       "      <th>0</th>\n",
       "      <td>38</td>\n",
       "      <td>165</td>\n",
       "      <td>Aelalis34</td>\n",
       "      <td>Bone Crushing Silver Skewer</td>\n",
       "      <td>Masculino</td>\n",
       "      <td>3.37</td>\n",
       "    </tr>\n",
       "    <tr>\n",
       "      <th>1</th>\n",
       "      <td>21</td>\n",
       "      <td>119</td>\n",
       "      <td>Eolo46</td>\n",
       "      <td>Stormbringer, Dark Blade of Ending Misery</td>\n",
       "      <td>Masculino</td>\n",
       "      <td>2.32</td>\n",
       "    </tr>\n",
       "    <tr>\n",
       "      <th>2</th>\n",
       "      <td>34</td>\n",
       "      <td>174</td>\n",
       "      <td>Assastnya25</td>\n",
       "      <td>Primitive Blade</td>\n",
       "      <td>Masculino</td>\n",
       "      <td>2.46</td>\n",
       "    </tr>\n",
       "    <tr>\n",
       "      <th>3</th>\n",
       "      <td>21</td>\n",
       "      <td>92</td>\n",
       "      <td>Pheusrical25</td>\n",
       "      <td>Final Critic</td>\n",
       "      <td>Masculino</td>\n",
       "      <td>1.36</td>\n",
       "    </tr>\n",
       "    <tr>\n",
       "      <th>4</th>\n",
       "      <td>23</td>\n",
       "      <td>63</td>\n",
       "      <td>Aela59</td>\n",
       "      <td>Stormfury Mace</td>\n",
       "      <td>Masculino</td>\n",
       "      <td>1.27</td>\n",
       "    </tr>\n",
       "    <tr>\n",
       "      <th>5</th>\n",
       "      <td>20</td>\n",
       "      <td>10</td>\n",
       "      <td>Tanimnya91</td>\n",
       "      <td>Sleepwalker</td>\n",
       "      <td>Masculino</td>\n",
       "      <td>1.73</td>\n",
       "    </tr>\n",
       "    <tr>\n",
       "      <th>6</th>\n",
       "      <td>20</td>\n",
       "      <td>153</td>\n",
       "      <td>Undjaskla97</td>\n",
       "      <td>Mercenary Sabre</td>\n",
       "      <td>Masculino</td>\n",
       "      <td>4.57</td>\n",
       "    </tr>\n",
       "    <tr>\n",
       "      <th>7</th>\n",
       "      <td>29</td>\n",
       "      <td>169</td>\n",
       "      <td>Iathenudil29</td>\n",
       "      <td>Interrogator, Blood Blade of the Queen</td>\n",
       "      <td>Feminino</td>\n",
       "      <td>3.32</td>\n",
       "    </tr>\n",
       "    <tr>\n",
       "      <th>8</th>\n",
       "      <td>25</td>\n",
       "      <td>118</td>\n",
       "      <td>Sondenasta63</td>\n",
       "      <td>Ghost Reaver, Longsword of Magic</td>\n",
       "      <td>Masculino</td>\n",
       "      <td>2.77</td>\n",
       "    </tr>\n",
       "    <tr>\n",
       "      <th>9</th>\n",
       "      <td>31</td>\n",
       "      <td>99</td>\n",
       "      <td>Hilaerin92</td>\n",
       "      <td>Expiration, Warscythe Of Lost Worlds</td>\n",
       "      <td>Masculino</td>\n",
       "      <td>4.53</td>\n",
       "    </tr>\n",
       "  </tbody>\n",
       "</table>\n",
       "</div>"
      ],
      "text/plain": [
       "   Idade  Item ID         Login                               Nome do Item  \\\n",
       "0     38      165     Aelalis34                Bone Crushing Silver Skewer   \n",
       "1     21      119        Eolo46  Stormbringer, Dark Blade of Ending Misery   \n",
       "2     34      174   Assastnya25                            Primitive Blade   \n",
       "3     21       92  Pheusrical25                               Final Critic   \n",
       "4     23       63        Aela59                             Stormfury Mace   \n",
       "5     20       10    Tanimnya91                                Sleepwalker   \n",
       "6     20      153   Undjaskla97                            Mercenary Sabre   \n",
       "7     29      169  Iathenudil29     Interrogator, Blood Blade of the Queen   \n",
       "8     25      118  Sondenasta63           Ghost Reaver, Longsword of Magic   \n",
       "9     31       99    Hilaerin92       Expiration, Warscythe Of Lost Worlds   \n",
       "\n",
       "        Sexo  Valor  \n",
       "0  Masculino   3.37  \n",
       "1  Masculino   2.32  \n",
       "2  Masculino   2.46  \n",
       "3  Masculino   1.36  \n",
       "4  Masculino   1.27  \n",
       "5  Masculino   1.73  \n",
       "6  Masculino   4.57  \n",
       "7   Feminino   3.32  \n",
       "8  Masculino   2.77  \n",
       "9  Masculino   4.53  "
      ]
     },
     "execution_count": 3,
     "metadata": {},
     "output_type": "execute_result"
    }
   ],
   "source": [
    "df_compras = pd.read_json(dados_compras_file, orient = 'records', encoding = 'utf-8')\n",
    "df_compras.head(10)"
   ]
  },
  {
   "cell_type": "code",
   "execution_count": 4,
   "metadata": {},
   "outputs": [],
   "source": [
    "#Alterando o nome da coluna \"Item ID\" para \"Item_ID\" e da coluna \"Nome do Item\" para \"Nome_do_Item\" para evitar futuros conflitos\n",
    "\n",
    "df_compras.rename(columns = {'Item ID': 'Item_ID', 'Nome do Item': 'Nome_do_Item'}, inplace = True)"
   ]
  },
  {
   "cell_type": "markdown",
   "metadata": {},
   "source": [
    "# Informações sobre os consumidores"
   ]
  },
  {
   "cell_type": "code",
   "execution_count": 5,
   "metadata": {},
   "outputs": [
    {
     "name": "stdout",
     "output_type": "stream",
     "text": [
      "<class 'pandas.core.frame.DataFrame'>\n",
      "RangeIndex: 780 entries, 0 to 779\n",
      "Data columns (total 6 columns):\n",
      "Idade           780 non-null int64\n",
      "Item_ID         780 non-null int64\n",
      "Login           780 non-null object\n",
      "Nome_do_Item    780 non-null object\n",
      "Sexo            780 non-null object\n",
      "Valor           780 non-null float64\n",
      "dtypes: float64(1), int64(2), object(3)\n",
      "memory usage: 27.5+ KB\n"
     ]
    }
   ],
   "source": [
    "df_compras.info()"
   ]
  },
  {
   "cell_type": "markdown",
   "metadata": {},
   "source": [
    "# Análise geral de compras"
   ]
  },
  {
   "cell_type": "code",
   "execution_count": 6,
   "metadata": {},
   "outputs": [
    {
     "data": {
      "text/plain": [
       "179"
      ]
     },
     "execution_count": 6,
     "metadata": {},
     "output_type": "execute_result"
    }
   ],
   "source": [
    "#Quantidade de itens comprados uma única vez\n",
    "itens_exclusivos = df_compras['Nome_do_Item'].unique()\n",
    "itens_exclusivos.size"
   ]
  },
  {
   "cell_type": "code",
   "execution_count": 7,
   "metadata": {},
   "outputs": [
    {
     "name": "stdout",
     "output_type": "stream",
     "text": [
      "R$ 2.93\n"
     ]
    }
   ],
   "source": [
    "#Preço médio de compras\n",
    "print('R$ %.2f' % round(df_compras['Valor'].mean(), 2))"
   ]
  },
  {
   "cell_type": "code",
   "execution_count": 8,
   "metadata": {},
   "outputs": [
    {
     "data": {
      "text/plain": [
       "780"
      ]
     },
     "execution_count": 8,
     "metadata": {},
     "output_type": "execute_result"
    }
   ],
   "source": [
    "#Quantidade total de compras\n",
    "quantidade_total_compras = df_compras.shape[0]\n",
    "quantidade_total_compras"
   ]
  },
  {
   "cell_type": "code",
   "execution_count": 9,
   "metadata": {},
   "outputs": [
    {
     "data": {
      "text/plain": [
       "2286.33"
      ]
     },
     "execution_count": 9,
     "metadata": {},
     "output_type": "execute_result"
    }
   ],
   "source": [
    "#Rendimento total\n",
    "rendimento_total = df_compras['Valor'].sum()\n",
    "rendimento_total"
   ]
  },
  {
   "cell_type": "markdown",
   "metadata": {},
   "source": [
    "# Informações demográficas por gênero"
   ]
  },
  {
   "cell_type": "code",
   "execution_count": 10,
   "metadata": {},
   "outputs": [
    {
     "name": "stdout",
     "output_type": "stream",
     "text": [
      "Porcentagem de compradores masculinos: 0.81 %\n"
     ]
    }
   ],
   "source": [
    "#Porcentagem e contagem de compradores do sexo masculino\n",
    "quant_compras_masc = list(df_compras['Sexo']).count('Masculino')\n",
    "porc_compras_masc = quant_compras_masc/quantidade_total_compras\n",
    "\n",
    "print(\"Porcentagem de compradores masculinos: %.2f %%\" % porc_compras_masc)"
   ]
  },
  {
   "cell_type": "code",
   "execution_count": 11,
   "metadata": {},
   "outputs": [
    {
     "name": "stdout",
     "output_type": "stream",
     "text": [
      "Porcentagem de compradoras femininas: 0.17 %\n"
     ]
    }
   ],
   "source": [
    "#Porcentagem e contagem de compradores do sexo feminino\n",
    "quant_compras_femi = list(df_compras['Sexo']).count('Feminino')\n",
    "porc_compras_femi = quant_compras_femi/quantidade_total_compras\n",
    "\n",
    "print(\"Porcentagem de compradoras femininas: %.2f %%\" % porc_compras_femi)"
   ]
  },
  {
   "cell_type": "code",
   "execution_count": 12,
   "metadata": {},
   "outputs": [
    {
     "name": "stdout",
     "output_type": "stream",
     "text": [
      "Porcentagem de compradores do sexo não divulgado: 0.01 %\n"
     ]
    }
   ],
   "source": [
    "#Porcentagem e contagem de compradores de sexo não divulgado\n",
    "quant_compras_ND = list(df_compras['Sexo']).count('Outro / Não Divulgado')\n",
    "porc_compras_ND = quant_compras_ND/quantidade_total_compras\n",
    "\n",
    "print(\"Porcentagem de compradores do sexo não divulgado: %.2f %%\" % porc_compras_ND)"
   ]
  },
  {
   "cell_type": "code",
   "execution_count": 13,
   "metadata": {},
   "outputs": [
    {
     "data": {
      "image/png": "[encoded data removed]",
      "text/plain": [
       "<Figure size 432x288 with 1 Axes>"
      ]
     },
     "metadata": {},
     "output_type": "display_data"
    }
   ],
   "source": [
    "fatias = [porc_compras_masc, porc_compras_femi, porc_compras_ND]\n",
    "legendas = ['Masculino', 'Feminino', 'Não divulgado']\n",
    "\n",
    "plt.pie(fatias, labels = legendas, colors = ['b','m','y'], startangle = 90, shadow = True)\n",
    "plt.show()"
   ]
  },
  {
   "cell_type": "markdown",
   "metadata": {},
   "source": [
    "# Análise de compras por gênero"
   ]
  },
  {
   "cell_type": "code",
   "execution_count": 14,
   "metadata": {},
   "outputs": [
    {
     "data": {
      "text/html": [
       "<div>\n",
       "<style scoped>\n",
       "    .dataframe tbody tr th:only-of-type {\n",
       "        vertical-align: middle;\n",
       "    }\n",
       "\n",
       "    .dataframe tbody tr th {\n",
       "        vertical-align: top;\n",
       "    }\n",
       "\n",
       "    .dataframe thead th {\n",
       "        text-align: right;\n",
       "    }\n",
       "</style>\n",
       "<table border=\"1\" class=\"dataframe\">\n",
       "  <thead>\n",
       "    <tr style=\"text-align: right;\">\n",
       "      <th></th>\n",
       "      <th>Sexo</th>\n",
       "      <th>Quantidade_de_Compras</th>\n",
       "    </tr>\n",
       "  </thead>\n",
       "  <tbody>\n",
       "    <tr>\n",
       "      <th>0</th>\n",
       "      <td>Feminino</td>\n",
       "      <td>136</td>\n",
       "    </tr>\n",
       "    <tr>\n",
       "      <th>1</th>\n",
       "      <td>Masculino</td>\n",
       "      <td>633</td>\n",
       "    </tr>\n",
       "    <tr>\n",
       "      <th>2</th>\n",
       "      <td>Outro / Não Divulgado</td>\n",
       "      <td>11</td>\n",
       "    </tr>\n",
       "  </tbody>\n",
       "</table>\n",
       "</div>"
      ],
      "text/plain": [
       "                    Sexo  Quantidade_de_Compras\n",
       "0               Feminino                    136\n",
       "1              Masculino                    633\n",
       "2  Outro / Não Divulgado                     11"
      ]
     },
     "execution_count": 14,
     "metadata": {},
     "output_type": "execute_result"
    }
   ],
   "source": [
    "#Aqui criamos uma nova coluna (temporariamente) ao nosso dataframe, essa coluna será utilizada neste momento e também mais para frente\n",
    "df_compras['Quantidade_de_Compras'] = 0\n",
    "\n",
    "#Número de compras de cada gênero\n",
    "num_compras_genero = df_compras.groupby('Sexo', as_index = False)['Quantidade_de_Compras'].count()\n",
    "num_compras_genero"
   ]
  },
  {
   "cell_type": "code",
   "execution_count": 47,
   "metadata": {},
   "outputs": [
    {
     "data": {
      "text/plain": [
       "<BarContainer object of 3 artists>"
      ]
     },
     "execution_count": 47,
     "metadata": {},
     "output_type": "execute_result"
    },
    {
     "data": {
      "image/png": "[encoded data removed]",
      "text/plain": [
       "<Figure size 432x288 with 1 Axes>"
      ]
     },
     "metadata": {},
     "output_type": "display_data"
    }
   ],
   "source": [
    "barlist = plt.bar(num_compras_genero['Sexo'], num_compras_genero['Quantidade_de_Compras'], color = 'm')\n",
    "barlist[1].set_color('b')\n",
    "barlist[2].set_color('y')\n",
    "barlist"
   ]
  },
  {
   "cell_type": "code",
   "execution_count": 15,
   "metadata": {},
   "outputs": [
    {
     "data": {
      "text/html": [
       "<div>\n",
       "<style scoped>\n",
       "    .dataframe tbody tr th:only-of-type {\n",
       "        vertical-align: middle;\n",
       "    }\n",
       "\n",
       "    .dataframe tbody tr th {\n",
       "        vertical-align: top;\n",
       "    }\n",
       "\n",
       "    .dataframe thead th {\n",
       "        text-align: right;\n",
       "    }\n",
       "</style>\n",
       "<table border=\"1\" class=\"dataframe\">\n",
       "  <thead>\n",
       "    <tr style=\"text-align: right;\">\n",
       "      <th></th>\n",
       "      <th>Sexo</th>\n",
       "      <th>Valor</th>\n",
       "    </tr>\n",
       "  </thead>\n",
       "  <tbody>\n",
       "    <tr>\n",
       "      <th>0</th>\n",
       "      <td>Feminino</td>\n",
       "      <td>2.815515</td>\n",
       "    </tr>\n",
       "    <tr>\n",
       "      <th>1</th>\n",
       "      <td>Masculino</td>\n",
       "      <td>2.950521</td>\n",
       "    </tr>\n",
       "    <tr>\n",
       "      <th>2</th>\n",
       "      <td>Outro / Não Divulgado</td>\n",
       "      <td>3.249091</td>\n",
       "    </tr>\n",
       "  </tbody>\n",
       "</table>\n",
       "</div>"
      ],
      "text/plain": [
       "                    Sexo     Valor\n",
       "0               Feminino  2.815515\n",
       "1              Masculino  2.950521\n",
       "2  Outro / Não Divulgado  3.249091"
      ]
     },
     "execution_count": 15,
     "metadata": {},
     "output_type": "execute_result"
    }
   ],
   "source": [
    "#Preço médio de compra de cada gênero\n",
    "media_compras_generos = df_compras.groupby('Sexo', as_index = False)['Valor'].mean()\n",
    "media_compras_generos"
   ]
  },
  {
   "cell_type": "code",
   "execution_count": 48,
   "metadata": {},
   "outputs": [
    {
     "data": {
      "text/plain": [
       "<BarContainer object of 3 artists>"
      ]
     },
     "execution_count": 48,
     "metadata": {},
     "output_type": "execute_result"
    },
    {
     "data": {
      "image/png": "[encoded data removed]",
      "text/plain": [
       "<Figure size 432x288 with 1 Axes>"
      ]
     },
     "metadata": {},
     "output_type": "display_data"
    }
   ],
   "source": [
    "barlist = plt.bar(media_compras_generos['Sexo'], media_compras_generos['Valor'], label = 'Sexos', color = 'm')\n",
    "barlist[1].set_color('b')\n",
    "barlist[2].set_color('y')\n",
    "barlist"
   ]
  },
  {
   "cell_type": "code",
   "execution_count": 16,
   "metadata": {},
   "outputs": [
    {
     "data": {
      "text/html": [
       "<div>\n",
       "<style scoped>\n",
       "    .dataframe tbody tr th:only-of-type {\n",
       "        vertical-align: middle;\n",
       "    }\n",
       "\n",
       "    .dataframe tbody tr th {\n",
       "        vertical-align: top;\n",
       "    }\n",
       "\n",
       "    .dataframe thead th {\n",
       "        text-align: right;\n",
       "    }\n",
       "</style>\n",
       "<table border=\"1\" class=\"dataframe\">\n",
       "  <thead>\n",
       "    <tr style=\"text-align: right;\">\n",
       "      <th></th>\n",
       "      <th>Sexo</th>\n",
       "      <th>Valor</th>\n",
       "    </tr>\n",
       "  </thead>\n",
       "  <tbody>\n",
       "    <tr>\n",
       "      <th>0</th>\n",
       "      <td>Feminino</td>\n",
       "      <td>382.91</td>\n",
       "    </tr>\n",
       "    <tr>\n",
       "      <th>1</th>\n",
       "      <td>Masculino</td>\n",
       "      <td>1867.68</td>\n",
       "    </tr>\n",
       "    <tr>\n",
       "      <th>2</th>\n",
       "      <td>Outro / Não Divulgado</td>\n",
       "      <td>35.74</td>\n",
       "    </tr>\n",
       "  </tbody>\n",
       "</table>\n",
       "</div>"
      ],
      "text/plain": [
       "                    Sexo    Valor\n",
       "0               Feminino   382.91\n",
       "1              Masculino  1867.68\n",
       "2  Outro / Não Divulgado    35.74"
      ]
     },
     "execution_count": 16,
     "metadata": {},
     "output_type": "execute_result"
    }
   ],
   "source": [
    "#Valor total de compra de cada gênero\n",
    "valor_total_genero = df_compras.groupby('Sexo', as_index = False)['Valor'].sum()\n",
    "valor_total_genero"
   ]
  },
  {
   "cell_type": "code",
   "execution_count": 17,
   "metadata": {},
   "outputs": [],
   "source": [
    "#Compras por faixa etária e gênero\n",
    "#Será usado o parâmetro do IBGE, Jovens de 0 a 19 anos, Adultos de 20 a 59 anos e Idosos com 60 ou mais\n",
    "jovens = list(filter(lambda x : x <= 19, df_compras['Idade']))\n",
    "adultos = list(filter(lambda x : (x >= 20) & (x <= 59), df_compras['Idade']))\n",
    "idosos = list(filter(lambda x : x >= 60, df_compras['Idade']))\n",
    "\n",
    "colunas = ['Idade', 'Valor']\n",
    "df_idade_valor = df_compras[colunas]\n",
    "\n",
    "df_jovens = df_idade_valor[df_idade_valor['Idade'] <= 19]\n",
    "df_adultos = df_idade_valor[(df_idade_valor['Idade'] >= 20) & (df_idade_valor['Idade'] <= 59)]\n",
    "df_idosos = df_idade_valor[df_idade_valor['Idade'] >= 60]"
   ]
  },
  {
   "cell_type": "code",
   "execution_count": 18,
   "metadata": {},
   "outputs": [
    {
     "name": "stdout",
     "output_type": "stream",
     "text": [
      "Quantidade de jovens que compraram: 196\n",
      "Média de valor comprado por jovens: R$ 2.89\n",
      "Item de maior valor comprado por um jovem: R$ 4.95\n"
     ]
    }
   ],
   "source": [
    "#JOVENS\n",
    "print(\"Quantidade de jovens que compraram: %i\" % len(jovens))\n",
    "print(\"Média de valor comprado por jovens: R$ %.2f\" % df_jovens['Valor'].mean())\n",
    "print(\"Item de maior valor comprado por um jovem: R$ %.2f\" % df_jovens['Valor'].max())"
   ]
  },
  {
   "cell_type": "code",
   "execution_count": 19,
   "metadata": {},
   "outputs": [
    {
     "name": "stdout",
     "output_type": "stream",
     "text": [
      "Quantidade de adultos que compraram: 584\n",
      "Média de valor comprado por adultos: R$ 2.94\n",
      "Item de maior valor comprado por um adulto: R$ 4.95\n"
     ]
    }
   ],
   "source": [
    "#ADULTOS\n",
    "print(\"Quantidade de adultos que compraram: %i\" % len(adultos))\n",
    "print(\"Média de valor comprado por adultos: R$ %.2f\" % df_adultos['Valor'].mean())\n",
    "print(\"Item de maior valor comprado por um adulto: R$ %.2f\" % df_adultos['Valor'].max())"
   ]
  },
  {
   "cell_type": "code",
   "execution_count": 20,
   "metadata": {},
   "outputs": [
    {
     "name": "stdout",
     "output_type": "stream",
     "text": [
      "Quantidade de idosos que compraram: 0\n",
      "Média de valor comprado por idosos: R$ nan\n",
      "Item de maior valor comprado por um idoso: R$ nan\n"
     ]
    }
   ],
   "source": [
    "#IDOSOS\n",
    "print(\"Quantidade de idosos que compraram: %i\" % len(idosos))\n",
    "print(\"Média de valor comprado por idosos: R$ %.2f\" % df_idosos['Valor'].mean())\n",
    "print(\"Item de maior valor comprado por um idoso: R$ %.2f\" % df_idosos['Valor'].max())"
   ]
  },
  {
   "cell_type": "markdown",
   "metadata": {},
   "source": [
    "## Top 5 principais compradores pelo valor total de compra"
   ]
  },
  {
   "cell_type": "code",
   "execution_count": 21,
   "metadata": {},
   "outputs": [
    {
     "data": {
      "text/html": [
       "<div>\n",
       "<style scoped>\n",
       "    .dataframe tbody tr th:only-of-type {\n",
       "        vertical-align: middle;\n",
       "    }\n",
       "\n",
       "    .dataframe tbody tr th {\n",
       "        vertical-align: top;\n",
       "    }\n",
       "\n",
       "    .dataframe thead th {\n",
       "        text-align: right;\n",
       "    }\n",
       "</style>\n",
       "<table border=\"1\" class=\"dataframe\">\n",
       "  <thead>\n",
       "    <tr style=\"text-align: right;\">\n",
       "      <th></th>\n",
       "      <th>Login</th>\n",
       "      <th>Valor_total_de_compra</th>\n",
       "    </tr>\n",
       "  </thead>\n",
       "  <tbody>\n",
       "    <tr>\n",
       "      <th>538</th>\n",
       "      <td>Undirrala66</td>\n",
       "      <td>17.06</td>\n",
       "    </tr>\n",
       "    <tr>\n",
       "      <th>428</th>\n",
       "      <td>Saedue76</td>\n",
       "      <td>13.56</td>\n",
       "    </tr>\n",
       "    <tr>\n",
       "      <th>354</th>\n",
       "      <td>Mindimnya67</td>\n",
       "      <td>12.74</td>\n",
       "    </tr>\n",
       "    <tr>\n",
       "      <th>181</th>\n",
       "      <td>Haellysu29</td>\n",
       "      <td>12.73</td>\n",
       "    </tr>\n",
       "    <tr>\n",
       "      <th>120</th>\n",
       "      <td>Eoda93</td>\n",
       "      <td>11.58</td>\n",
       "    </tr>\n",
       "  </tbody>\n",
       "</table>\n",
       "</div>"
      ],
      "text/plain": [
       "           Login  Valor_total_de_compra\n",
       "538  Undirrala66                  17.06\n",
       "428     Saedue76                  13.56\n",
       "354  Mindimnya67                  12.74\n",
       "181   Haellysu29                  12.73\n",
       "120       Eoda93                  11.58"
      ]
     },
     "execution_count": 21,
     "metadata": {},
     "output_type": "execute_result"
    }
   ],
   "source": [
    "#Criando um dataframe de Login e Valor total de compra\n",
    "login_valor = df_compras[['Login', 'Valor']]\n",
    "\n",
    "df_login = login_valor.groupby('Login', as_index = False)['Valor'].sum().sort_values(['Valor'], ascending = False)\n",
    "\n",
    "df_login.columns = ['Login', 'Valor_total_de_compra']\n",
    "df_login_top5 = df_login.head()\n",
    "\n",
    "#Top 5 principais compradores pelo valor total de compra\n",
    "df_login_top5.head()"
   ]
  },
  {
   "cell_type": "code",
   "execution_count": 22,
   "metadata": {},
   "outputs": [],
   "source": [
    "#Aqui vamos definir quantas compras cada login efetuou baseado na quantidade de vezes que o login aparece no dataframe\n",
    "a = df_compras.groupby('Login', as_index = False)['Quantidade_de_Compras'].count()\n",
    "#Feito isso, vamos colocar alocar a coluna Quantidade_de_Compras no objeto b\n",
    "b = a['Quantidade_de_Compras']"
   ]
  },
  {
   "cell_type": "code",
   "execution_count": 23,
   "metadata": {},
   "outputs": [],
   "source": [
    "#E agora, passamos a coluna Quantidade_de_Compras para o dataframe\n",
    "df_compras['Quantidade_de_Compras'] = b"
   ]
  },
  {
   "cell_type": "code",
   "execution_count": 24,
   "metadata": {},
   "outputs": [],
   "source": [
    "#Esse comando em especial serve para não aparecer um warning do pandas por conta da operação que vamos efetuar abaixo\n",
    "pd.options.mode.chained_assignment = None"
   ]
  },
  {
   "cell_type": "code",
   "execution_count": 25,
   "metadata": {},
   "outputs": [],
   "source": [
    "#Agora, para criar uma média de compra do Top 5 fazemos o seguinte:\n",
    "coluna_valor = df_login_top5['Valor_total_de_compra']\n",
    "coluna_login = list(df_login_top5['Login'])\n",
    "\n",
    "quant_login_top5 = []\n",
    "\n",
    "for i in coluna_login:\n",
    "    logins = list(df_compras['Login'])\n",
    "    quant_login_top5.append(logins.count(i))\n",
    "\n",
    "df_login_top5['Media_de_Compra'] = coluna_valor.div(quant_login_top5)\n",
    "df_login_top5['Quantidade_de_Compra'] = quant_login_top5"
   ]
  },
  {
   "cell_type": "code",
   "execution_count": 26,
   "metadata": {},
   "outputs": [
    {
     "data": {
      "text/html": [
       "<div>\n",
       "<style scoped>\n",
       "    .dataframe tbody tr th:only-of-type {\n",
       "        vertical-align: middle;\n",
       "    }\n",
       "\n",
       "    .dataframe tbody tr th {\n",
       "        vertical-align: top;\n",
       "    }\n",
       "\n",
       "    .dataframe thead th {\n",
       "        text-align: right;\n",
       "    }\n",
       "</style>\n",
       "<table border=\"1\" class=\"dataframe\">\n",
       "  <thead>\n",
       "    <tr style=\"text-align: right;\">\n",
       "      <th></th>\n",
       "      <th>Login</th>\n",
       "      <th>Valor_total_de_compra</th>\n",
       "      <th>Media_de_Compra</th>\n",
       "      <th>Quantidade_de_Compra</th>\n",
       "    </tr>\n",
       "  </thead>\n",
       "  <tbody>\n",
       "    <tr>\n",
       "      <th>0</th>\n",
       "      <td>Undirrala66</td>\n",
       "      <td>17.06</td>\n",
       "      <td>3.412000</td>\n",
       "      <td>5</td>\n",
       "    </tr>\n",
       "    <tr>\n",
       "      <th>1</th>\n",
       "      <td>Saedue76</td>\n",
       "      <td>13.56</td>\n",
       "      <td>3.390000</td>\n",
       "      <td>4</td>\n",
       "    </tr>\n",
       "    <tr>\n",
       "      <th>2</th>\n",
       "      <td>Mindimnya67</td>\n",
       "      <td>12.74</td>\n",
       "      <td>3.185000</td>\n",
       "      <td>4</td>\n",
       "    </tr>\n",
       "    <tr>\n",
       "      <th>3</th>\n",
       "      <td>Haellysu29</td>\n",
       "      <td>12.73</td>\n",
       "      <td>4.243333</td>\n",
       "      <td>3</td>\n",
       "    </tr>\n",
       "    <tr>\n",
       "      <th>4</th>\n",
       "      <td>Eoda93</td>\n",
       "      <td>11.58</td>\n",
       "      <td>3.860000</td>\n",
       "      <td>3</td>\n",
       "    </tr>\n",
       "  </tbody>\n",
       "</table>\n",
       "</div>"
      ],
      "text/plain": [
       "         Login  Valor_total_de_compra  Media_de_Compra  Quantidade_de_Compra\n",
       "0  Undirrala66                  17.06         3.412000                     5\n",
       "1     Saedue76                  13.56         3.390000                     4\n",
       "2  Mindimnya67                  12.74         3.185000                     4\n",
       "3   Haellysu29                  12.73         4.243333                     3\n",
       "4       Eoda93                  11.58         3.860000                     3"
      ]
     },
     "execution_count": 26,
     "metadata": {},
     "output_type": "execute_result"
    }
   ],
   "source": [
    "#Por fim, aqui está uma tabela com os dados que queríamos\n",
    "df_login_top5.reset_index(drop = True)"
   ]
  },
  {
   "cell_type": "code",
   "execution_count": null,
   "metadata": {},
   "outputs": [],
   "source": []
  },
  {
   "cell_type": "code",
   "execution_count": 27,
   "metadata": {},
   "outputs": [],
   "source": [
    "#Feito isso, podemos dropar a coluna Quantidade_de_Compra do df_compras\n",
    "df_compras.drop('Quantidade_de_Compras', axis = 1, inplace = True)"
   ]
  },
  {
   "cell_type": "markdown",
   "metadata": {},
   "source": [
    "# Top 5 itens mais populares por contagem de compras"
   ]
  },
  {
   "cell_type": "code",
   "execution_count": 28,
   "metadata": {},
   "outputs": [
    {
     "data": {
      "text/html": [
       "<div>\n",
       "<style scoped>\n",
       "    .dataframe tbody tr th:only-of-type {\n",
       "        vertical-align: middle;\n",
       "    }\n",
       "\n",
       "    .dataframe tbody tr th {\n",
       "        vertical-align: top;\n",
       "    }\n",
       "\n",
       "    .dataframe thead th {\n",
       "        text-align: right;\n",
       "    }\n",
       "</style>\n",
       "<table border=\"1\" class=\"dataframe\">\n",
       "  <thead>\n",
       "    <tr style=\"text-align: right;\">\n",
       "      <th></th>\n",
       "      <th>Item_ID</th>\n",
       "      <th>Nome_do_Item</th>\n",
       "      <th>Valor</th>\n",
       "      <th>Numero_de_Compras</th>\n",
       "      <th>Valor_Total_Compras</th>\n",
       "    </tr>\n",
       "  </thead>\n",
       "  <tbody>\n",
       "    <tr>\n",
       "      <th>0</th>\n",
       "      <td>39</td>\n",
       "      <td>Betrayal, Whisper of Grieving Widows</td>\n",
       "      <td>2.35</td>\n",
       "      <td>11</td>\n",
       "      <td>25.85</td>\n",
       "    </tr>\n",
       "    <tr>\n",
       "      <th>1</th>\n",
       "      <td>84</td>\n",
       "      <td>Arcane Gem</td>\n",
       "      <td>2.23</td>\n",
       "      <td>11</td>\n",
       "      <td>24.53</td>\n",
       "    </tr>\n",
       "    <tr>\n",
       "      <th>2</th>\n",
       "      <td>31</td>\n",
       "      <td>Trickster</td>\n",
       "      <td>2.07</td>\n",
       "      <td>9</td>\n",
       "      <td>18.63</td>\n",
       "    </tr>\n",
       "    <tr>\n",
       "      <th>3</th>\n",
       "      <td>175</td>\n",
       "      <td>Woeful Adamantite Claymore</td>\n",
       "      <td>1.24</td>\n",
       "      <td>9</td>\n",
       "      <td>11.16</td>\n",
       "    </tr>\n",
       "    <tr>\n",
       "      <th>4</th>\n",
       "      <td>13</td>\n",
       "      <td>Serenity</td>\n",
       "      <td>1.49</td>\n",
       "      <td>9</td>\n",
       "      <td>13.41</td>\n",
       "    </tr>\n",
       "  </tbody>\n",
       "</table>\n",
       "</div>"
      ],
      "text/plain": [
       "   Item_ID                          Nome_do_Item  Valor  Numero_de_Compras  \\\n",
       "0       39  Betrayal, Whisper of Grieving Widows   2.35                 11   \n",
       "1       84                            Arcane Gem   2.23                 11   \n",
       "2       31                             Trickster   2.07                  9   \n",
       "3      175            Woeful Adamantite Claymore   1.24                  9   \n",
       "4       13                              Serenity   1.49                  9   \n",
       "\n",
       "   Valor_Total_Compras  \n",
       "0                25.85  \n",
       "1                24.53  \n",
       "2                18.63  \n",
       "3                11.16  \n",
       "4                13.41  "
      ]
     },
     "execution_count": 28,
     "metadata": {},
     "output_type": "execute_result"
    }
   ],
   "source": [
    "#Itens mais comprados da loja\n",
    "df_compras['Numero_de_Compras'] = 0\n",
    "df_compras['Valor_Total'] = 0\n",
    "df_itens = df_compras.groupby(['Item_ID', 'Nome_do_Item', 'Valor'], as_index = False)\\\n",
    "            ['Numero_de_Compras'].count().sort_values('Numero_de_Compras', ascending = False)\n",
    "\n",
    "df_itens['Valor_Total_Compras'] = df_itens['Valor'] * df_itens['Numero_de_Compras']\n",
    "\n",
    "df_itens.head().reset_index(drop = True)"
   ]
  },
  {
   "cell_type": "markdown",
   "metadata": {},
   "source": [
    "# Top 5 itens mais lucrativos"
   ]
  },
  {
   "cell_type": "code",
   "execution_count": 29,
   "metadata": {},
   "outputs": [],
   "source": [
    "df_itens_lucrativos = df_compras[['Item_ID', 'Nome_do_Item', 'Valor', 'Numero_de_Compras', 'Valor_Total']].drop_duplicates()"
   ]
  },
  {
   "cell_type": "code",
   "execution_count": 30,
   "metadata": {},
   "outputs": [],
   "source": [
    "df_itens_lucrativos = df_itens_lucrativos.sort_values(['Valor'], ascending = False).head()"
   ]
  },
  {
   "cell_type": "code",
   "execution_count": 49,
   "metadata": {},
   "outputs": [
    {
     "data": {
      "text/html": [
       "<div>\n",
       "<style scoped>\n",
       "    .dataframe tbody tr th:only-of-type {\n",
       "        vertical-align: middle;\n",
       "    }\n",
       "\n",
       "    .dataframe tbody tr th {\n",
       "        vertical-align: top;\n",
       "    }\n",
       "\n",
       "    .dataframe thead th {\n",
       "        text-align: right;\n",
       "    }\n",
       "</style>\n",
       "<table border=\"1\" class=\"dataframe\">\n",
       "  <thead>\n",
       "    <tr style=\"text-align: right;\">\n",
       "      <th></th>\n",
       "      <th>Item_ID</th>\n",
       "      <th>Nome_do_Item</th>\n",
       "      <th>Valor</th>\n",
       "      <th>Numero_de_Compras</th>\n",
       "      <th>Valor_Total</th>\n",
       "    </tr>\n",
       "  </thead>\n",
       "  <tbody>\n",
       "    <tr>\n",
       "      <th>0</th>\n",
       "      <td>32</td>\n",
       "      <td>Orenmir</td>\n",
       "      <td>4.95</td>\n",
       "      <td>6</td>\n",
       "      <td>29.70</td>\n",
       "    </tr>\n",
       "    <tr>\n",
       "      <th>2</th>\n",
       "      <td>103</td>\n",
       "      <td>Singed Scalpel</td>\n",
       "      <td>4.87</td>\n",
       "      <td>6</td>\n",
       "      <td>29.22</td>\n",
       "    </tr>\n",
       "    <tr>\n",
       "      <th>3</th>\n",
       "      <td>173</td>\n",
       "      <td>Stormfury Longsword</td>\n",
       "      <td>4.83</td>\n",
       "      <td>5</td>\n",
       "      <td>24.15</td>\n",
       "    </tr>\n",
       "    <tr>\n",
       "      <th>1</th>\n",
       "      <td>177</td>\n",
       "      <td>Winterthorn, Defender of Shifting Worlds</td>\n",
       "      <td>4.89</td>\n",
       "      <td>4</td>\n",
       "      <td>19.56</td>\n",
       "    </tr>\n",
       "    <tr>\n",
       "      <th>4</th>\n",
       "      <td>42</td>\n",
       "      <td>The Decapitator</td>\n",
       "      <td>4.82</td>\n",
       "      <td>3</td>\n",
       "      <td>14.46</td>\n",
       "    </tr>\n",
       "  </tbody>\n",
       "</table>\n",
       "</div>"
      ],
      "text/plain": [
       "   Item_ID                              Nome_do_Item  Valor  \\\n",
       "0       32                                   Orenmir   4.95   \n",
       "2      103                            Singed Scalpel   4.87   \n",
       "3      173                       Stormfury Longsword   4.83   \n",
       "1      177  Winterthorn, Defender of Shifting Worlds   4.89   \n",
       "4       42                           The Decapitator   4.82   \n",
       "\n",
       "   Numero_de_Compras  Valor_Total  \n",
       "0                  6        29.70  \n",
       "2                  6        29.22  \n",
       "3                  5        24.15  \n",
       "1                  4        19.56  \n",
       "4                  3        14.46  "
      ]
     },
     "execution_count": 49,
     "metadata": {},
     "output_type": "execute_result"
    }
   ],
   "source": [
    "itens_id_lucrativos = list(df_itens_lucrativos['Nome_do_Item'].head())\n",
    "\n",
    "quant_itens_lucrativos = []\n",
    "\n",
    "for i in itens_id_lucrativos:\n",
    "    itens = list(df_compras['Nome_do_Item'])\n",
    "    quant_itens_lucrativos.append(itens.count(i))\n",
    "\n",
    "df_itens_lucrativos['Numero_de_Compras'] = quant_itens_lucrativos\n",
    "df_itens_lucrativos['Valor_Total'] = df_itens_lucrativos['Valor'] * df_itens_lucrativos['Numero_de_Compras']\n",
    "df_itens_lucrativos.reset_index(drop = True).sort_values(['Valor_Total'], ascending = False)"
   ]
  },
  {
   "cell_type": "code",
   "execution_count": 32,
   "metadata": {},
   "outputs": [],
   "source": [
    "df_compras.drop(columns = ['Numero_de_Compras'], inplace = True)"
   ]
  }
 ],
 "metadata": {
  "kernelspec": {
   "display_name": "Python 3",
   "language": "python",
   "name": "python3"
  },
  "language_info": {
   "codemirror_mode": {
    "name": "ipython",
    "version": 3
   },
   "file_extension": ".py",
   "mimetype": "text/x-python",
   "name": "python",
   "nbconvert_exporter": "python",
   "pygments_lexer": "ipython3",
   "version": "3.6.5"
  }
 },
 "nbformat": 4,
 "nbformat_minor": 2
}
