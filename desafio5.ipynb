{
 "cells": [
  {
   "cell_type": "markdown",
   "metadata": {},
   "source": [
    "# Bibliotecas utilizadas"
   ]
  },
  {
   "cell_type": "code",
   "execution_count": 1,
   "metadata": {},
   "outputs": [],
   "source": [
    "import pandas as pd\n",
    "import numpy as np"
   ]
  },
  {
   "cell_type": "markdown",
   "metadata": {},
   "source": [
    "# Carregando os arquivos para a análise"
   ]
  },
  {
   "cell_type": "code",
   "execution_count": 2,
   "metadata": {},
   "outputs": [],
   "source": [
    "dados_compras_file = 'dados_compras.json'"
   ]
  },
  {
   "cell_type": "code",
   "execution_count": 3,
   "metadata": {},
   "outputs": [
    {
     "data": {
      "text/html": [
       "<div>\n",
       "<style scoped>\n",
       "    .dataframe tbody tr th:only-of-type {\n",
       "        vertical-align: middle;\n",
       "    }\n",
       "\n",
       "    .dataframe tbody tr th {\n",
       "        vertical-align: top;\n",
       "    }\n",
       "\n",
       "    .dataframe thead th {\n",
       "        text-align: right;\n",
       "    }\n",
       "</style>\n",
       "<table border=\"1\" class=\"dataframe\">\n",
       "  <thead>\n",
       "    <tr style=\"text-align: right;\">\n",
       "      <th></th>\n",
       "      <th>Idade</th>\n",
       "      <th>Item ID</th>\n",
       "      <th>Login</th>\n",
       "      <th>Nome do Item</th>\n",
       "      <th>Sexo</th>\n",
       "      <th>Valor</th>\n",
       "    </tr>\n",
       "  </thead>\n",
       "  <tbody>\n",
       "    <tr>\n",
       "      <th>0</th>\n",
       "      <td>38</td>\n",
       "      <td>165</td>\n",
       "      <td>Aelalis34</td>\n",
       "      <td>Bone Crushing Silver Skewer</td>\n",
       "      <td>Masculino</td>\n",
       "      <td>3.37</td>\n",
       "    </tr>\n",
       "    <tr>\n",
       "      <th>1</th>\n",
       "      <td>21</td>\n",
       "      <td>119</td>\n",
       "      <td>Eolo46</td>\n",
       "      <td>Stormbringer, Dark Blade of Ending Misery</td>\n",
       "      <td>Masculino</td>\n",
       "      <td>2.32</td>\n",
       "    </tr>\n",
       "    <tr>\n",
       "      <th>2</th>\n",
       "      <td>34</td>\n",
       "      <td>174</td>\n",
       "      <td>Assastnya25</td>\n",
       "      <td>Primitive Blade</td>\n",
       "      <td>Masculino</td>\n",
       "      <td>2.46</td>\n",
       "    </tr>\n",
       "    <tr>\n",
       "      <th>3</th>\n",
       "      <td>21</td>\n",
       "      <td>92</td>\n",
       "      <td>Pheusrical25</td>\n",
       "      <td>Final Critic</td>\n",
       "      <td>Masculino</td>\n",
       "      <td>1.36</td>\n",
       "    </tr>\n",
       "    <tr>\n",
       "      <th>4</th>\n",
       "      <td>23</td>\n",
       "      <td>63</td>\n",
       "      <td>Aela59</td>\n",
       "      <td>Stormfury Mace</td>\n",
       "      <td>Masculino</td>\n",
       "      <td>1.27</td>\n",
       "    </tr>\n",
       "  </tbody>\n",
       "</table>\n",
       "</div>"
      ],
      "text/plain": [
       "   Idade  Item ID         Login                               Nome do Item  \\\n",
       "0     38      165     Aelalis34                Bone Crushing Silver Skewer   \n",
       "1     21      119        Eolo46  Stormbringer, Dark Blade of Ending Misery   \n",
       "2     34      174   Assastnya25                            Primitive Blade   \n",
       "3     21       92  Pheusrical25                               Final Critic   \n",
       "4     23       63        Aela59                             Stormfury Mace   \n",
       "\n",
       "        Sexo  Valor  \n",
       "0  Masculino   3.37  \n",
       "1  Masculino   2.32  \n",
       "2  Masculino   2.46  \n",
       "3  Masculino   1.36  \n",
       "4  Masculino   1.27  "
      ]
     },
     "execution_count": 3,
     "metadata": {},
     "output_type": "execute_result"
    }
   ],
   "source": [
    "df_compras = pd.read_json(dados_compras_file, orient = 'records', encoding = 'utf-8')\n",
    "df_compras.head()"
   ]
  },
  {
   "cell_type": "code",
   "execution_count": 4,
   "metadata": {},
   "outputs": [],
   "source": [
    "#Alterando o nome da coluna \"Item ID\" para \"Item_ID\" e da coluna \"Nome do Item\" para \"Nome_do_Item\" para evitar futuros conflitos\n",
    "\n",
    "df_compras.rename(columns = {'Item ID': 'Item_ID', 'Nome do Item': 'Nome_do_Item'}, inplace = True)"
   ]
  },
  {
   "cell_type": "markdown",
   "metadata": {},
   "source": [
    "# Informações sobre os consumidores"
   ]
  },
  {
   "cell_type": "code",
   "execution_count": 5,
   "metadata": {},
   "outputs": [
    {
     "name": "stdout",
     "output_type": "stream",
     "text": [
      "<class 'pandas.core.frame.DataFrame'>\n",
      "RangeIndex: 780 entries, 0 to 779\n",
      "Data columns (total 6 columns):\n",
      "Idade           780 non-null int64\n",
      "Item_ID         780 non-null int64\n",
      "Login           780 non-null object\n",
      "Nome_do_Item    780 non-null object\n",
      "Sexo            780 non-null object\n",
      "Valor           780 non-null float64\n",
      "dtypes: float64(1), int64(2), object(3)\n",
      "memory usage: 27.5+ KB\n"
     ]
    }
   ],
   "source": [
    "df_compras.info()"
   ]
  },
  {
   "cell_type": "markdown",
   "metadata": {},
   "source": [
    "# Análise geral de compras"
   ]
  },
  {
   "cell_type": "code",
   "execution_count": 6,
   "metadata": {},
   "outputs": [
    {
     "data": {
      "text/plain": [
       "179"
      ]
     },
     "execution_count": 6,
     "metadata": {},
     "output_type": "execute_result"
    }
   ],
   "source": [
    "#Quantidade de itens comprados um única vez\n",
    "itens_exclusivos = df_compras['Nome_do_Item'].unique()\n",
    "itens_exclusivos.size"
   ]
  },
  {
   "cell_type": "code",
   "execution_count": 7,
   "metadata": {},
   "outputs": [
    {
     "name": "stdout",
     "output_type": "stream",
     "text": [
      "R$ 2.93\n"
     ]
    }
   ],
   "source": [
    "#Preço médio de compras\n",
    "print('R$ %.2f' % round(df_compras['Valor'].mean(), 2))"
   ]
  },
  {
   "cell_type": "code",
   "execution_count": 8,
   "metadata": {},
   "outputs": [
    {
     "data": {
      "text/plain": [
       "780"
      ]
     },
     "execution_count": 8,
     "metadata": {},
     "output_type": "execute_result"
    }
   ],
   "source": [
    "#Quantidade total de compras\n",
    "quantidade_total_compras = df_compras.shape[0]\n",
    "quantidade_total_compras"
   ]
  },
  {
   "cell_type": "code",
   "execution_count": 9,
   "metadata": {},
   "outputs": [
    {
     "data": {
      "text/plain": [
       "2286.33"
      ]
     },
     "execution_count": 9,
     "metadata": {},
     "output_type": "execute_result"
    }
   ],
   "source": [
    "#Rendimento total\n",
    "rendimento_total = df_compras['Valor'].sum()\n",
    "rendimento_total"
   ]
  },
  {
   "cell_type": "markdown",
   "metadata": {},
   "source": [
    "# Informações demográficas por gênero"
   ]
  },
  {
   "cell_type": "code",
   "execution_count": 10,
   "metadata": {},
   "outputs": [
    {
     "name": "stdout",
     "output_type": "stream",
     "text": [
      "Porcentagem de compradores masculinos: 0.81 %\n"
     ]
    }
   ],
   "source": [
    "#Porcentagem e contagem de compradores do sexo masculino\n",
    "quant_compras_masc = list(df_compras['Sexo']).count('Masculino')\n",
    "porc_compras_masc = quant_compras_masc/quantidade_total_compras\n",
    "\n",
    "print(\"Porcentagem de compradores masculinos: %.2f %%\" % porc_compras_masc)"
   ]
  },
  {
   "cell_type": "code",
   "execution_count": 11,
   "metadata": {},
   "outputs": [
    {
     "name": "stdout",
     "output_type": "stream",
     "text": [
      "Porcentagem de compradoras femininas: 0.17 %\n"
     ]
    }
   ],
   "source": [
    "#Porcentagem e contagem de compradores do sexo feminino\n",
    "quant_compras_femi = list(df_compras['Sexo']).count('Feminino')\n",
    "porc_compras_femi = quant_compras_femi/quantidade_total_compras\n",
    "\n",
    "print(\"Porcentagem de compradoras femininas: %.2f %%\" % porc_compras_femi)"
   ]
  },
  {
   "cell_type": "code",
   "execution_count": 12,
   "metadata": {},
   "outputs": [
    {
     "name": "stdout",
     "output_type": "stream",
     "text": [
      "Porcentagem de compradores do sexo não divulgado: 0.01 %\n"
     ]
    }
   ],
   "source": [
    "#Porcentagem e contagem de compradores de sexo não divulgado\n",
    "quant_compras_ND = list(df_compras['Sexo']).count('Outro / Não Divulgado')\n",
    "porc_compras_ND = quant_compras_ND/quantidade_total_compras\n",
    "\n",
    "print(\"Porcentagem de compradores do sexo não divulgado: %.2f %%\" % porc_compras_ND)"
   ]
  },
  {
   "cell_type": "markdown",
   "metadata": {},
   "source": [
    "# Análise de compras por gênero"
   ]
  },
  {
   "cell_type": "code",
   "execution_count": 33,
   "metadata": {},
   "outputs": [
    {
     "data": {
      "text/html": [
       "<div>\n",
       "<style scoped>\n",
       "    .dataframe tbody tr th:only-of-type {\n",
       "        vertical-align: middle;\n",
       "    }\n",
       "\n",
       "    .dataframe tbody tr th {\n",
       "        vertical-align: top;\n",
       "    }\n",
       "\n",
       "    .dataframe thead th {\n",
       "        text-align: right;\n",
       "    }\n",
       "</style>\n",
       "<table border=\"1\" class=\"dataframe\">\n",
       "  <thead>\n",
       "    <tr style=\"text-align: right;\">\n",
       "      <th></th>\n",
       "      <th>Sexo</th>\n",
       "      <th>Quantidade_de_Compras</th>\n",
       "    </tr>\n",
       "  </thead>\n",
       "  <tbody>\n",
       "    <tr>\n",
       "      <th>0</th>\n",
       "      <td>Feminino</td>\n",
       "      <td>136</td>\n",
       "    </tr>\n",
       "    <tr>\n",
       "      <th>1</th>\n",
       "      <td>Masculino</td>\n",
       "      <td>633</td>\n",
       "    </tr>\n",
       "    <tr>\n",
       "      <th>2</th>\n",
       "      <td>Outro / Não Divulgado</td>\n",
       "      <td>11</td>\n",
       "    </tr>\n",
       "  </tbody>\n",
       "</table>\n",
       "</div>"
      ],
      "text/plain": [
       "                    Sexo  Quantidade_de_Compras\n",
       "0               Feminino                    136\n",
       "1              Masculino                    633\n",
       "2  Outro / Não Divulgado                     11"
      ]
     },
     "execution_count": 33,
     "metadata": {},
     "output_type": "execute_result"
    }
   ],
   "source": [
    "#Número de compras de cada gênero\n",
    "df_compras['Quantidade_de_Compras'] = 0\n",
    "num_compras_genero = df_compras.groupby('Sexo', as_index = False)['Quantidade_de_Compras'].count()\n",
    "num_compras_genero"
   ]
  },
  {
   "cell_type": "code",
   "execution_count": 35,
   "metadata": {},
   "outputs": [],
   "source": [
    "df_compras.drop(columns = ['Quantidade_de_Compras'], inplace = True)"
   ]
  },
  {
   "cell_type": "code",
   "execution_count": 36,
   "metadata": {},
   "outputs": [
    {
     "data": {
      "text/html": [
       "<div>\n",
       "<style scoped>\n",
       "    .dataframe tbody tr th:only-of-type {\n",
       "        vertical-align: middle;\n",
       "    }\n",
       "\n",
       "    .dataframe tbody tr th {\n",
       "        vertical-align: top;\n",
       "    }\n",
       "\n",
       "    .dataframe thead th {\n",
       "        text-align: right;\n",
       "    }\n",
       "</style>\n",
       "<table border=\"1\" class=\"dataframe\">\n",
       "  <thead>\n",
       "    <tr style=\"text-align: right;\">\n",
       "      <th></th>\n",
       "      <th>Sexo</th>\n",
       "      <th>Valor</th>\n",
       "    </tr>\n",
       "  </thead>\n",
       "  <tbody>\n",
       "    <tr>\n",
       "      <th>0</th>\n",
       "      <td>Feminino</td>\n",
       "      <td>2.815515</td>\n",
       "    </tr>\n",
       "    <tr>\n",
       "      <th>1</th>\n",
       "      <td>Masculino</td>\n",
       "      <td>2.950521</td>\n",
       "    </tr>\n",
       "    <tr>\n",
       "      <th>2</th>\n",
       "      <td>Outro / Não Divulgado</td>\n",
       "      <td>3.249091</td>\n",
       "    </tr>\n",
       "  </tbody>\n",
       "</table>\n",
       "</div>"
      ],
      "text/plain": [
       "                    Sexo     Valor\n",
       "0               Feminino  2.815515\n",
       "1              Masculino  2.950521\n",
       "2  Outro / Não Divulgado  3.249091"
      ]
     },
     "execution_count": 36,
     "metadata": {},
     "output_type": "execute_result"
    }
   ],
   "source": [
    "#Preço médio de compra de cada gênero\n",
    "media_compras_generos = df_compras.groupby('Sexo', as_index = False)['Valor'].mean()\n",
    "media_compras_generos"
   ]
  },
  {
   "cell_type": "code",
   "execution_count": 37,
   "metadata": {},
   "outputs": [
    {
     "data": {
      "text/html": [
       "<div>\n",
       "<style scoped>\n",
       "    .dataframe tbody tr th:only-of-type {\n",
       "        vertical-align: middle;\n",
       "    }\n",
       "\n",
       "    .dataframe tbody tr th {\n",
       "        vertical-align: top;\n",
       "    }\n",
       "\n",
       "    .dataframe thead th {\n",
       "        text-align: right;\n",
       "    }\n",
       "</style>\n",
       "<table border=\"1\" class=\"dataframe\">\n",
       "  <thead>\n",
       "    <tr style=\"text-align: right;\">\n",
       "      <th></th>\n",
       "      <th>Sexo</th>\n",
       "      <th>Valor</th>\n",
       "    </tr>\n",
       "  </thead>\n",
       "  <tbody>\n",
       "    <tr>\n",
       "      <th>0</th>\n",
       "      <td>Feminino</td>\n",
       "      <td>382.91</td>\n",
       "    </tr>\n",
       "    <tr>\n",
       "      <th>1</th>\n",
       "      <td>Masculino</td>\n",
       "      <td>1867.68</td>\n",
       "    </tr>\n",
       "    <tr>\n",
       "      <th>2</th>\n",
       "      <td>Outro / Não Divulgado</td>\n",
       "      <td>35.74</td>\n",
       "    </tr>\n",
       "  </tbody>\n",
       "</table>\n",
       "</div>"
      ],
      "text/plain": [
       "                    Sexo    Valor\n",
       "0               Feminino   382.91\n",
       "1              Masculino  1867.68\n",
       "2  Outro / Não Divulgado    35.74"
      ]
     },
     "execution_count": 37,
     "metadata": {},
     "output_type": "execute_result"
    }
   ],
   "source": [
    "#Valor total de compra de cada gênero\n",
    "valor_total_genero = df_compras.groupby('Sexo', as_index = False)['Valor'].sum()\n",
    "valor_total_genero"
   ]
  },
  {
   "cell_type": "code",
   "execution_count": 72,
   "metadata": {},
   "outputs": [],
   "source": [
    "#Compras por faixa etária e gênero\n",
    "#Será usado o parâmetro do IBGE, Jovens de 0 a 19 anos, Adultos de 20 a 59 anos e Idosos com 60 ou mais\n",
    "jovens = list(filter(lambda x : x <= 19, df_compras['Idade']))\n",
    "adultos = list(filter(lambda x : (x >= 20) & (x <= 59), df_compras['Idade']))\n",
    "idosos = list(filter(lambda x : x >= 60, df_compras['Idade']))\n",
    "\n",
    "colunas = ['Idade', 'Valor']\n",
    "df_idade_valor = df_compras[colunas]\n",
    "\n",
    "df_jovens = df_idade_valor[df_idade_valor['Idade'] <= 19]\n",
    "df_adultos = df_idade_valor[(df_idade_valor['Idade'] >= 20) & (df_idade_valor['Idade'] <= 59)]\n",
    "df_idosos = df_idade_valor[df_idade_valor['Idade'] >= 60]"
   ]
  },
  {
   "cell_type": "code",
   "execution_count": 70,
   "metadata": {},
   "outputs": [
    {
     "name": "stdout",
     "output_type": "stream",
     "text": [
      "Quantidade de jovens que compraram: 196\n",
      "Média de valor comprado por jovens: R$ 2.89\n",
      "Item de maior valor comprado por um jovem: R$ 4.95\n"
     ]
    }
   ],
   "source": [
    "#JOVENS\n",
    "print(\"Quantidade de jovens que compraram: %i\" % len(jovens))\n",
    "print(\"Média de valor comprado por jovens: R$ %.2f\" % df_jovens['Valor'].mean())\n",
    "print(\"Item de maior valor comprado por um jovem: R$ %.2f\" % df_jovens['Valor'].max())"
   ]
  },
  {
   "cell_type": "code",
   "execution_count": 73,
   "metadata": {},
   "outputs": [
    {
     "name": "stdout",
     "output_type": "stream",
     "text": [
      "Quantidade de adultos que compraram: 584\n",
      "Média de valor comprado por adultos: R$ 2.94\n",
      "Item de maior valor comprado por um adulto: R$ 4.95\n"
     ]
    }
   ],
   "source": [
    "#ADULTOS\n",
    "print(\"Quantidade de adultos que compraram: %i\" % len(adultos))\n",
    "print(\"Média de valor comprado por adultos: R$ %.2f\" % df_adultos['Valor'].mean())\n",
    "print(\"Item de maior valor comprado por um adulto: R$ %.2f\" % df_adultos['Valor'].max())"
   ]
  },
  {
   "cell_type": "code",
   "execution_count": 65,
   "metadata": {},
   "outputs": [
    {
     "name": "stdout",
     "output_type": "stream",
     "text": [
      "Quantidade de idosos que compraram: 0\n",
      "Média de valor comprado por idosos: R$ nan\n",
      "Item de maior valor comprado por um idoso: R$ nan\n"
     ]
    }
   ],
   "source": [
    "#IDOSOS\n",
    "print(\"Quantidade de idosos que compraram: %i\" % len(idosos))\n",
    "print(\"Média de valor comprado por idosos: R$ %.2f\" % df_idosos['Valor'].mean())\n",
    "print(\"Item de maior valor comprado por um idoso: R$ %.2f\" % df_idosos['Valor'].max())"
   ]
  },
  {
   "cell_type": "markdown",
   "metadata": {},
   "source": [
    "## Top 5 principais compradores"
   ]
  },
  {
   "cell_type": "code",
   "execution_count": null,
   "metadata": {},
   "outputs": [],
   "source": []
  }
 ],
 "metadata": {
  "kernelspec": {
   "display_name": "Python 3",
   "language": "python",
   "name": "python3"
  },
  "language_info": {
   "codemirror_mode": {
    "name": "ipython",
    "version": 3
   },
   "file_extension": ".py",
   "mimetype": "text/x-python",
   "name": "python",
   "nbconvert_exporter": "python",
   "pygments_lexer": "ipython3",
   "version": "3.6.5"
  }
 },
 "nbformat": 4,
 "nbformat_minor": 2
}
